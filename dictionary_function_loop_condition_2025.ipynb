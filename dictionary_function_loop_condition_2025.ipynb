{
  "nbformat": 4,
  "nbformat_minor": 0,
  "metadata": {
    "kernelspec": {
      "display_name": "Python 3",
      "language": "python",
      "name": "python3"
    },
    "language_info": {
      "codemirror_mode": {
        "name": "ipython",
        "version": 3
      },
      "file_extension": ".py",
      "mimetype": "text/x-python",
      "name": "python",
      "nbconvert_exporter": "python",
      "pygments_lexer": "ipython3",
      "version": "3.7.4"
    },
    "colab": {
      "provenance": [],
      "toc_visible": true,
      "include_colab_link": true
    }
  },
  "cells": [
    {
      "cell_type": "markdown",
      "metadata": {
        "id": "view-in-github",
        "colab_type": "text"
      },
      "source": [
        "<a href=\"https://colab.research.google.com/github/TKhahahah/dataviz2025/blob/main/dictionary_function_loop_condition_2025.ipynb\" target=\"_parent\"><img src=\"https://colab.research.google.com/assets/colab-badge.svg\" alt=\"Open In Colab\"/></a>"
      ]
    },
    {
      "cell_type": "markdown",
      "source": [
        "HW1 note"
      ],
      "metadata": {
        "id": "2wnVRxt7Qw8x"
      }
    },
    {
      "cell_type": "code",
      "source": [
        "inp = '12:30:15-13:41:07'\n",
        "inp_list = inp.split('-')\n",
        "inp_list"
      ],
      "metadata": {
        "colab": {
          "base_uri": "https://localhost:8080/"
        },
        "id": "7b9PZ1gTQ0EA",
        "outputId": "b9f21012-312d-450a-dec1-1ecc4893a91c"
      },
      "execution_count": null,
      "outputs": [
        {
          "output_type": "execute_result",
          "data": {
            "text/plain": [
              "['12:30:15', '13:41:07']"
            ]
          },
          "metadata": {},
          "execution_count": 1
        }
      ]
    },
    {
      "cell_type": "markdown",
      "source": [
        "#**Dictionnary**"
      ],
      "metadata": {
        "id": "TmRcZL1LSHD4"
      }
    },
    {
      "cell_type": "markdown",
      "source": [],
      "metadata": {
        "id": "dZQEKVBBSKk5"
      }
    },
    {
      "cell_type": "code",
      "source": [
        "dict_a = {'abc':123,'def':456,'ghi':789}"
      ],
      "metadata": {
        "id": "bB9eW1klSdU6"
      },
      "execution_count": null,
      "outputs": []
    },
    {
      "cell_type": "code",
      "source": [
        "dict_a"
      ],
      "metadata": {
        "colab": {
          "base_uri": "https://localhost:8080/"
        },
        "id": "n3_PKa7vS3Ph",
        "outputId": "613a67ac-28d2-46f5-c680-75b26ca32513"
      },
      "execution_count": null,
      "outputs": [
        {
          "output_type": "execute_result",
          "data": {
            "text/plain": [
              "{'abc': 123, 'def': 456, 'ghi': 789}"
            ]
          },
          "metadata": {},
          "execution_count": 3
        }
      ]
    },
    {
      "cell_type": "code",
      "source": [
        "dict_a['def']"
      ],
      "metadata": {
        "colab": {
          "base_uri": "https://localhost:8080/"
        },
        "id": "H77ZhuiYTE-Q",
        "outputId": "bfa9f870-1e95-42e8-c1dd-af92685d23a5"
      },
      "execution_count": null,
      "outputs": [
        {
          "output_type": "execute_result",
          "data": {
            "text/plain": [
              "456"
            ]
          },
          "metadata": {},
          "execution_count": 4
        }
      ]
    },
    {
      "cell_type": "code",
      "source": [
        "dict_b = {}"
      ],
      "metadata": {
        "id": "vg0BCszUTVx6"
      },
      "execution_count": null,
      "outputs": []
    },
    {
      "cell_type": "code",
      "source": [
        "#Add members into dic.\n",
        "dict_b['a'] = 123"
      ],
      "metadata": {
        "id": "s9iXyEglTcIk"
      },
      "execution_count": null,
      "outputs": []
    },
    {
      "cell_type": "code",
      "source": [
        "dict_b"
      ],
      "metadata": {
        "colab": {
          "base_uri": "https://localhost:8080/"
        },
        "id": "rjBtopbcTkXD",
        "outputId": "6710dd0f-6a65-4766-d800-886252d9d469"
      },
      "execution_count": null,
      "outputs": [
        {
          "output_type": "execute_result",
          "data": {
            "text/plain": [
              "{'a': 123}"
            ]
          },
          "metadata": {},
          "execution_count": 7
        }
      ]
    },
    {
      "cell_type": "markdown",
      "source": [
        "##การ add สมาชิกเข้าไปใน dict"
      ],
      "metadata": {
        "id": "FWDoJEMNUIc0"
      }
    },
    {
      "cell_type": "code",
      "source": [
        "if 'b' not in dict_b: #check before add members\n",
        "  dict_b['b'] = 123"
      ],
      "metadata": {
        "id": "2Zk2oK_hUNLW"
      },
      "execution_count": null,
      "outputs": []
    },
    {
      "cell_type": "code",
      "source": [
        "dict_b"
      ],
      "metadata": {
        "colab": {
          "base_uri": "https://localhost:8080/"
        },
        "id": "T4W19yCoUAw0",
        "outputId": "d8c54bc6-518e-43a6-9850-0d735a47a739"
      },
      "execution_count": null,
      "outputs": [
        {
          "output_type": "execute_result",
          "data": {
            "text/plain": [
              "{'a': 123, 'b': 123}"
            ]
          },
          "metadata": {},
          "execution_count": 10
        }
      ]
    },
    {
      "cell_type": "markdown",
      "metadata": {
        "id": "-57L9aVubPqU"
      },
      "source": [
        "# Function"
      ]
    },
    {
      "cell_type": "markdown",
      "metadata": {
        "id": "1DNzYhO4bPqb"
      },
      "source": [
        "## Function template\n",
        "#### ทำหน้าที่รับ input มาประมวณผลออกมาเป็น output\n",
        "#### f(x) = y"
      ]
    },
    {
      "cell_type": "markdown",
      "metadata": {
        "id": "3Nv1ZDEKbPqc"
      },
      "source": [
        "### def คือการกำหนดฟังก์ชัน"
      ]
    },
    {
      "cell_type": "markdown",
      "metadata": {
        "id": "DbHDoWEabPqc"
      },
      "source": [
        "```python\n",
        "    def function_name(_Input_) :\n",
        "        do_something with _Input_ to get _Output_\n",
        "        return _Output_\n",
        "```\n",
        "\n",
        "def=define"
      ]
    },
    {
      "cell_type": "markdown",
      "metadata": {
        "id": "1fuimreqpVhU"
      },
      "source": [
        "เราใช้ เว้นวรรค (indent) เพื่อบอกขอบเขตของโปรแกรม"
      ]
    },
    {
      "cell_type": "markdown",
      "metadata": {
        "id": "kh2M1smCl5Iv"
      },
      "source": [
        "function มีส่วนสำคัญทั้งหมด 4 ส่วน\n",
        "\n",
        "1.   บอก python ว่าเราจะเขียนฟังก์ชั่น ชื่ออะไร  ```def function_name():``` (ขาดไม่ได้)\n",
        "2.   กำหนดตัวแปรที่จะเป็น input  ```_Input_``` (ขาดได้)\n",
        "3.   ส่วนประมวลผล ```do_something with _Input_ to get _Output_``` (ขาดไม่ได้)\n",
        "4.   ส่วน output ```return _Output_```(ขาดได้)\n",
        "\n"
      ]
    },
    {
      "cell_type": "markdown",
      "metadata": {
        "id": "lqWzVN5AbPqc"
      },
      "source": [
        "#### ตัวอย่างการเขียน normal function\n"
      ]
    },
    {
      "cell_type": "code",
      "source": [
        "def print_myname():   # ตัวอย่าง function ที่ไม่มีทั้ง input และ output\n",
        "    print('Sasivimol')"
      ],
      "metadata": {
        "id": "6wzfVo_pTefO"
      },
      "execution_count": null,
      "outputs": []
    },
    {
      "cell_type": "code",
      "source": [
        "print_myname()"
      ],
      "metadata": {
        "colab": {
          "base_uri": "https://localhost:8080/"
        },
        "id": "482E9UnsUMkC",
        "outputId": "2d5b73f5-1f55-4374-cc0d-1f969d175942"
      },
      "execution_count": null,
      "outputs": [
        {
          "output_type": "stream",
          "name": "stdout",
          "text": [
            "Sasivimol\n"
          ]
        }
      ]
    },
    {
      "cell_type": "code",
      "source": [
        "def print_name(name):        # ตัวอย่าง function ที่ มีครบทุกส่วน\n",
        "    st = f'ชื่อ {name}'\n",
        "    return st"
      ],
      "metadata": {
        "id": "1rWYqF9IXBsK"
      },
      "execution_count": null,
      "outputs": []
    },
    {
      "cell_type": "code",
      "source": [
        "print_name('stat')"
      ],
      "metadata": {
        "colab": {
          "base_uri": "https://localhost:8080/",
          "height": 36
        },
        "id": "C54OCFZ2XHrR",
        "outputId": "b10c990a-4a26-4c5b-fe87-f105366cb3b8"
      },
      "execution_count": null,
      "outputs": [
        {
          "output_type": "execute_result",
          "data": {
            "text/plain": [
              "'ชื่อ stat'"
            ],
            "application/vnd.google.colaboratory.intrinsic+json": {
              "type": "string"
            }
          },
          "metadata": {},
          "execution_count": 29
        }
      ]
    },
    {
      "cell_type": "code",
      "source": [
        "a = print_name('stat') #ต้องเอาตัวแปรมารับแต่ใช้ได้หลายครั้ง"
      ],
      "metadata": {
        "id": "cJHzjYgmXwTb"
      },
      "execution_count": null,
      "outputs": []
    },
    {
      "cell_type": "code",
      "source": [
        "a"
      ],
      "metadata": {
        "colab": {
          "base_uri": "https://localhost:8080/",
          "height": 36
        },
        "id": "CbO97KV8X2li",
        "outputId": "9f2ad855-9fb6-484b-ba2c-1c306069162e"
      },
      "execution_count": null,
      "outputs": [
        {
          "output_type": "execute_result",
          "data": {
            "text/plain": [
              "'ชื่อ stat'"
            ],
            "application/vnd.google.colaboratory.intrinsic+json": {
              "type": "string"
            }
          },
          "metadata": {},
          "execution_count": 36
        }
      ]
    },
    {
      "cell_type": "code",
      "metadata": {
        "id": "n706WULobPqc"
      },
      "source": [
        "def print_fullname(surname,ID,name):        # ตัวอย่าง function ที่ มีครบทุกส่วน\n",
        "    st = f'ชื่อ {name} นามสกุล {surname} รหัส {ID}'\n",
        "    return st"
      ],
      "execution_count": null,
      "outputs": []
    },
    {
      "cell_type": "code",
      "metadata": {
        "colab": {
          "base_uri": "https://localhost:8080/",
          "height": 36
        },
        "id": "muh0pi_Gkym8",
        "outputId": "74350ad2-af00-4d06-e54f-53fca04beddc"
      },
      "source": [
        "print_fullname('Panuchote','663020040-8','Sasivimol')"
      ],
      "execution_count": null,
      "outputs": [
        {
          "output_type": "execute_result",
          "data": {
            "text/plain": [
              "'ชื่อ Sasivimol นามสกุล Panuchote รหัส 663020040-8'"
            ],
            "application/vnd.google.colaboratory.intrinsic+json": {
              "type": "string"
            }
          },
          "metadata": {},
          "execution_count": 38
        }
      ]
    },
    {
      "cell_type": "code",
      "source": [
        "print_fullname(name='กาญจนา',surname='ประสาคุณ',ID='603021855-2')"
      ],
      "metadata": {
        "colab": {
          "base_uri": "https://localhost:8080/",
          "height": 36
        },
        "id": "vxooaHuHVTDJ",
        "outputId": "db3587cc-2e48-490c-ea05-cb61df27e30a"
      },
      "execution_count": null,
      "outputs": [
        {
          "output_type": "execute_result",
          "data": {
            "text/plain": [
              "'ชื่อ กาญจนา นามสกุล ประสาคุณ รหัส 603021855-2'"
            ],
            "application/vnd.google.colaboratory.intrinsic+json": {
              "type": "string"
            }
          },
          "metadata": {},
          "execution_count": 42
        }
      ]
    },
    {
      "cell_type": "markdown",
      "metadata": {
        "id": "tSV-FUQBpx0i"
      },
      "source": [
        "ฟังก์ชั่นไม่จำเป็นต้องมี output"
      ]
    },
    {
      "cell_type": "code",
      "metadata": {
        "id": "loNAFSvLo5dC"
      },
      "source": [
        "def print_fullname2(surname,ID,name):\n",
        "    st = f'ชื่อ {name} นามสกุล {surname} รหัส {ID}'\n",
        "    print(st)"
      ],
      "execution_count": null,
      "outputs": []
    },
    {
      "cell_type": "code",
      "metadata": {
        "colab": {
          "base_uri": "https://localhost:8080/"
        },
        "id": "JE88oCj8o_j_",
        "outputId": "7c4bcf85-612c-4dee-8525-f245b5410157"
      },
      "source": [
        "print_fullname2(name='กาญจนา',surname='ประสาคุณ',ID='603021855-2')"
      ],
      "execution_count": null,
      "outputs": [
        {
          "output_type": "stream",
          "name": "stdout",
          "text": [
            "ชื่อ กาญจนา นามสกุล ประสาคุณ รหัส 603021855-2\n"
          ]
        }
      ]
    },
    {
      "cell_type": "markdown",
      "source": [
        "### ข้อแตกต่างระหว่าง function ที่มีและไม่มี output"
      ],
      "metadata": {
        "id": "dW328wxLWauv"
      }
    },
    {
      "cell_type": "code",
      "source": [
        "out_printname1 = print_fullname(name='กาญจนา',surname='ประสาคุณ',ID='603021855-2') # มี output\n",
        "print(out_printname1)"
      ],
      "metadata": {
        "colab": {
          "base_uri": "https://localhost:8080/"
        },
        "id": "Ae6C6-DTWFOD",
        "outputId": "1f50a397-20d8-4252-92bd-2eafc13587c7"
      },
      "execution_count": null,
      "outputs": [
        {
          "output_type": "stream",
          "name": "stdout",
          "text": [
            "ชื่อ กาญจนา นามสกุล ประสาคุณ รหัส 603021855-2\n"
          ]
        }
      ]
    },
    {
      "cell_type": "code",
      "source": [
        "out_printname1"
      ],
      "metadata": {
        "colab": {
          "base_uri": "https://localhost:8080/",
          "height": 36
        },
        "id": "yPtH94N0WtsE",
        "outputId": "3a166746-3f70-4c4c-d6f4-ff8b1a21f6e7"
      },
      "execution_count": null,
      "outputs": [
        {
          "output_type": "execute_result",
          "data": {
            "text/plain": [
              "'ชื่อ กาญจนา นามสกุล ประสาคุณ รหัส 603021855-2'"
            ],
            "application/vnd.google.colaboratory.intrinsic+json": {
              "type": "string"
            }
          },
          "metadata": {},
          "execution_count": 55
        }
      ]
    },
    {
      "cell_type": "code",
      "source": [
        "out_printname2 = print_fullname2(name='กาญจนา',surname='ประสาคุณ',ID='603021855-2')  # ไม่มี output\n",
        "print(out_printname2)"
      ],
      "metadata": {
        "colab": {
          "base_uri": "https://localhost:8080/"
        },
        "id": "AbT5pKVYWRBn",
        "outputId": "2add9645-4e41-40dc-d8c2-92ae191f6b46"
      },
      "execution_count": null,
      "outputs": [
        {
          "output_type": "stream",
          "name": "stdout",
          "text": [
            "ชื่อ กาญจนา นามสกุล ประสาคุณ รหัส 603021855-2\n",
            "None\n"
          ]
        }
      ]
    },
    {
      "cell_type": "code",
      "source": [
        "out_printname2"
      ],
      "metadata": {
        "id": "l_fW68dyXDw3"
      },
      "execution_count": null,
      "outputs": []
    },
    {
      "cell_type": "markdown",
      "metadata": {
        "id": "JF4RdyEBqPyl"
      },
      "source": [
        "ฟังก์ชั่นไม่จำเป็นต้องมี input"
      ]
    },
    {
      "cell_type": "code",
      "metadata": {
        "id": "LNb_o_ZXo_gh"
      },
      "source": [
        "def Pi():\n",
        "    return 3.14159265359"
      ],
      "execution_count": null,
      "outputs": []
    },
    {
      "cell_type": "code",
      "metadata": {
        "colab": {
          "base_uri": "https://localhost:8080/"
        },
        "id": "htN6zLbFo_dr",
        "outputId": "aeab0de5-0f5e-4f0a-cd38-0c523de3796d"
      },
      "source": [
        "Pi()*(2**2) # หาพื้นที่ของวงกลมที่มีรัศมีเท่ากับ Pi * r^2"
      ],
      "execution_count": null,
      "outputs": [
        {
          "output_type": "execute_result",
          "data": {
            "text/plain": [
              "12.56637061436"
            ]
          },
          "metadata": {},
          "execution_count": 49
        }
      ]
    },
    {
      "cell_type": "markdown",
      "metadata": {
        "id": "ywc0Ho-_rUTu"
      },
      "source": [
        "## เราสามารถกำหนดค่า default ให้กับ input ของฟังก์ชั่นได้"
      ]
    },
    {
      "cell_type": "markdown",
      "metadata": {
        "id": "y_74dHkjxS7f"
      },
      "source": [
        "input ของ function ใน python มีสองแบบ input ที่จำเป็นต้องใส่ กับ input ที่ไม่จำเป็นต้องใส่ (มีค่า default)\n",
        "\n",
        "เราต้องเรียง input ที่จำเป็นต้องใส่ขึ้นก่อน"
      ]
    },
    {
      "cell_type": "markdown",
      "source": [
        "default คือค่าที่มันเอามาใส่ให้ถ้าเราไม่ได้ใส่"
      ],
      "metadata": {
        "id": "RJvOyk_-ZmY6"
      }
    },
    {
      "cell_type": "code",
      "metadata": {
        "id": "0Lrh-6mAo_bA"
      },
      "source": [
        "def print_2lines_default(name,surname,ID,grade='A'):\n",
        "    st = f'ชื่อ {name} นามสกุล {surname} รหัส {ID}'\n",
        "    print (st)\n",
        "    st2=f'เกรดวิชา Data Viz >>> {grade}'\n",
        "    print(st2)"
      ],
      "execution_count": null,
      "outputs": []
    },
    {
      "cell_type": "code",
      "metadata": {
        "colab": {
          "base_uri": "https://localhost:8080/"
        },
        "id": "ZH31VIjko_WP",
        "outputId": "510132aa-965d-4298-904e-1d1ea8c2f275"
      },
      "source": [
        "print_2lines_default('Sasivimol','Panuchote','663020040-8')"
      ],
      "execution_count": null,
      "outputs": [
        {
          "output_type": "stream",
          "name": "stdout",
          "text": [
            "ชื่อ Sasivimol นามสกุล Panuchote รหัส 663020040-8\n",
            "เกรดวิชา Data Viz >>> A\n"
          ]
        }
      ]
    },
    {
      "cell_type": "code",
      "metadata": {
        "colab": {
          "base_uri": "https://localhost:8080/"
        },
        "id": "FKGr2Iyuo_S2",
        "outputId": "2e7c9171-14b0-447d-f0fd-27128b6db130"
      },
      "source": [
        "print_2lines_default('ธันยาการต์','พวงมาลัย','613020551-8','A')"
      ],
      "execution_count": null,
      "outputs": [
        {
          "output_type": "stream",
          "name": "stdout",
          "text": [
            "ชื่อ ธันยาการต์ นามสกุล พวงมาลัย รหัส 613020551-8\n",
            "เกรดวิชา Data Viz >>> A\n"
          ]
        }
      ]
    },
    {
      "cell_type": "code",
      "source": [
        "print_2lines_default('ธันยาการต์','พวงมาลัย','613020551-8',grade = 'A')"
      ],
      "metadata": {
        "colab": {
          "base_uri": "https://localhost:8080/"
        },
        "id": "Au_P2Cm8ZDXL",
        "outputId": "52a8ff1a-8c8a-48fc-917f-3ce7d48c4e2e"
      },
      "execution_count": null,
      "outputs": [
        {
          "output_type": "stream",
          "name": "stdout",
          "text": [
            "ชื่อ ธันยาการต์ นามสกุล พวงมาลัย รหัส 613020551-8\n",
            "เกรดวิชา Data Viz >>> A\n"
          ]
        }
      ]
    },
    {
      "cell_type": "code",
      "source": [
        "print_2lines_default('ธันยาการต์','พวงมาลัย')"
      ],
      "metadata": {
        "colab": {
          "base_uri": "https://localhost:8080/",
          "height": 158
        },
        "id": "cLGa_pO1Zv1U",
        "outputId": "656806dd-b1d3-41c7-b6cf-a549a55223ab"
      },
      "execution_count": null,
      "outputs": [
        {
          "output_type": "error",
          "ename": "TypeError",
          "evalue": "print_2lines_default() missing 1 required positional argument: 'ID'",
          "traceback": [
            "\u001b[0;31m---------------------------------------------------------------------------\u001b[0m",
            "\u001b[0;31mTypeError\u001b[0m                                 Traceback (most recent call last)",
            "\u001b[0;32m<ipython-input-17-800069358ecd>\u001b[0m in \u001b[0;36m<cell line: 1>\u001b[0;34m()\u001b[0m\n\u001b[0;32m----> 1\u001b[0;31m \u001b[0mprint_2lines_default\u001b[0m\u001b[0;34m(\u001b[0m\u001b[0;34m'ธันยาการต์'\u001b[0m\u001b[0;34m,\u001b[0m\u001b[0;34m'พวงมาลัย'\u001b[0m\u001b[0;34m)\u001b[0m\u001b[0;34m\u001b[0m\u001b[0;34m\u001b[0m\u001b[0m\n\u001b[0m",
            "\u001b[0;31mTypeError\u001b[0m: print_2lines_default() missing 1 required positional argument: 'ID'"
          ]
        }
      ]
    },
    {
      "cell_type": "markdown",
      "source": [
        "# Quiz3\n",
        "เขียน function ที่รับ input 1 ตัว ตาม format hh1:mm1:ss1 - hh2:mm2:ss2 และคำนวณหา ช่วงเวลาเป็นวินาที ที่ห่างกันระหว่า time1 และ time2 โดยยังไม่ต้องสนใจว่า time2 สามารถข้ามไปอีกวันได้"
      ],
      "metadata": {
        "id": "Alh7JMwDa1k1"
      }
    },
    {
      "cell_type": "markdown",
      "source": [
        "#Quiz5 เขียน function ของHW2"
      ],
      "metadata": {
        "id": "aJCcg2sdata0"
      }
    },
    {
      "cell_type": "code",
      "source": [
        "#วันเวลาแรกต่างจากวันเวลาที่ 2 เท่าไหร่\n",
        "#prompt ใช้ function หา วันเวลาแรกที่ต่างจากวันเวลาที่ 2 12:30:15, Wednesday - 13:41:07, Thursday"
      ],
      "metadata": {
        "id": "iiMkgR_uazYf"
      },
      "execution_count": null,
      "outputs": []
    },
    {
      "cell_type": "code",
      "source": [],
      "metadata": {
        "id": "M1J-vemUhTqP"
      },
      "execution_count": null,
      "outputs": []
    },
    {
      "cell_type": "code",
      "metadata": {
        "colab": {
          "base_uri": "https://localhost:8080/"
        },
        "id": "1c421a68",
        "outputId": "856190dc-107c-41cb-b88d-1291833344b1"
      },
      "source": [
        "time1_input = '12:53:15, Monday'\n",
        "time2_input = '00:59:25, Tuesday'\n",
        "diff_seconds = cal_dif_secs_with_weekday(time1_input, time2_input)\n",
        "print(f\"Time difference between {time1_input} - {time2_input} is {diff_seconds} seconds\")"
      ],
      "execution_count": null,
      "outputs": [
        {
          "output_type": "stream",
          "name": "stdout",
          "text": [
            "Time difference between 12:53:15, Monday - 00:59:25, Tuesday is 43570 seconds\n"
          ]
        }
      ]
    },
    {
      "cell_type": "code",
      "metadata": {
        "colab": {
          "base_uri": "https://localhost:8080/"
        },
        "id": "1e46ce4f",
        "outputId": "d15fc440-1df9-4c7a-d916-e39c6ac2d23c"
      },
      "source": [
        "time1_input = '16:06:09, Sunday'\n",
        "time2_input = '11:11:11, Tuesday'\n",
        "diff_seconds = cal_dif_secs_with_weekday(time1_input, time2_input)\n",
        "print(f\"Time difference between {time1_input} - {time2_input} is {diff_seconds} seconds\")"
      ],
      "execution_count": null,
      "outputs": [
        {
          "output_type": "stream",
          "name": "stdout",
          "text": [
            "Time difference between 16:06:09, Sunday - 11:11:11, Tuesday is 68702 seconds\n"
          ]
        }
      ]
    },
    {
      "cell_type": "code",
      "source": [
        "def time_to_second(time_str):\n",
        "    h, m, s = map(int, time_str.split(':'))\n",
        "    return h * 3600 + m * 60 + s\n",
        "\n",
        "def cal_dif_secs_with_weekday(time1_str_with_weekday, time2_str_with_weekday=None):\n",
        "    time1_str, weekday1 = time1_str_with_weekday.split(', ')\n",
        "\n",
        "    if time2_str_with_weekday is None:\n",
        "        # If only one input is provided, assume the same day\n",
        "        time2_str = time1_str_with_weekday.split(', ')[0]\n",
        "        weekday2 = weekday1\n",
        "    else:\n",
        "        time2_str, weekday2 = time2_str_with_weekday.split(', ')\n",
        "\n",
        "    time1_sec = time_to_second(time1_str)\n",
        "    time2_sec = time_to_second(time2_str)\n",
        "\n",
        "    # Assuming weekdays are consecutive for simplicity (e.g., Wednesday -> Thursday)\n",
        "    # This part still assumes consecutive days if different.\n",
        "    # A more robust solution would involve mapping weekdays to numbers and calculating the difference.\n",
        "    if weekday1 != weekday2 and time2_sec < time1_sec:\n",
        "        diff_seconds = (time2_sec + (24 * 60 * 60)) - time1_sec\n",
        "    else:\n",
        "        diff_seconds = time2_sec - time1_sec\n",
        "\n",
        "    return diff_seconds\n",
        "\n",
        "# Example usage with the provided times\n",
        "time1_input = '12:30:15, Wednesday'\n",
        "time2_input = '13:41:07, Thursday'\n",
        "diff_seconds = cal_dif_secs_with_weekday(time1_input, time2_input)\n",
        "print(f\"Time difference between {time1_input} - {time2_input} is {diff_seconds} seconds\")\n",
        "\n",
        "# Example usage with only one weekday provided (same day)\n",
        "time_same_day = '10:00:00, Monday'\n",
        "diff_seconds_same_day = cal_dif_secs_with_weekday(time_same_day)\n",
        "print(f\"Time difference within the same day ({time_same_day}) is {diff_seconds_same_day} seconds\")\n",
        "\n",
        "# Example usage with the provided times from the original notebook\n",
        "time_list_with_weekdays = [\n",
        "    [\"18:09:10, Monday\", \"18:25:10, Monday\"],\n",
        "    [\"13:38:39, Tuesday\", \"23:54:39, Tuesday\"],\n",
        "    [\"18:51:21, Wednesday\", \"00:17:21, Thursday\"],\n",
        "]\n",
        "\n",
        "for time1_with_weekday, time2_with_weekday in time_list_with_weekdays:\n",
        "     diff_seconds = cal_dif_secs_with_weekday(time1_with_weekday, time2_with_weekday)\n",
        "     print(f\"Time difference between {time1_with_weekday} and {time2_with_weekday} is {diff_seconds} seconds\")"
      ],
      "metadata": {
        "colab": {
          "base_uri": "https://localhost:8080/"
        },
        "id": "sv-1il2_dmvv",
        "outputId": "08dd5b43-b4a4-4482-f14d-75d199694650"
      },
      "execution_count": 2,
      "outputs": [
        {
          "output_type": "stream",
          "name": "stdout",
          "text": [
            "Time difference between 12:30:15, Wednesday - 13:41:07, Thursday is 4252 seconds\n",
            "Time difference within the same day (10:00:00, Monday) is 0 seconds\n",
            "Time difference between 18:09:10, Monday and 18:25:10, Monday is 960 seconds\n",
            "Time difference between 13:38:39, Tuesday and 23:54:39, Tuesday is 36960 seconds\n",
            "Time difference between 18:51:21, Wednesday and 00:17:21, Thursday is 19560 seconds\n"
          ]
        }
      ]
    },
    {
      "cell_type": "markdown",
      "source": [
        "#Quiz6\n"
      ],
      "metadata": {
        "id": "OQxgnrO2frdC"
      }
    },
    {
      "cell_type": "markdown",
      "source": [
        "เขียน function ของ HW2 -> มีการใช้ค่า default ของ input โดยถ้าวันที่กรอกเป็นวันเดียวกันให้ไม่ต้องกรอกแค่ 1 ตัว"
      ],
      "metadata": {
        "id": "AXAvVBgffxjC"
      }
    },
    {
      "cell_type": "code",
      "source": [],
      "metadata": {
        "id": "Fkc2SvfHgFqJ"
      },
      "execution_count": null,
      "outputs": []
    },
    {
      "cell_type": "code",
      "metadata": {
        "colab": {
          "base_uri": "https://localhost:8080/"
        },
        "id": "b45dedc1",
        "outputId": "168848db-a4bd-42dc-8434-1eedd950d3c8"
      },
      "source": [
        "def split_time_and_day(data_string):\n",
        "    \"\"\"Splits the input string into start and end time/day strings.\"\"\"\n",
        "    start_str, end_str = data_string.split(' - ')\n",
        "    return start_str, end_str\n",
        "\n",
        "def parse_time_and_day(time_day_string):\n",
        "    \"\"\"Parses a time and day string into time and day components.\"\"\"\n",
        "    time_str, day_str = time_day_string.split(\",\")\n",
        "    return time_str.strip(), day_str.strip()\n",
        "\n",
        "def time_to_seconds(time_str):\n",
        "    \"\"\"Converts a time string (hh:mm:ss) to seconds.\"\"\"\n",
        "    h, m, s = map(int, time_str.split(':'))\n",
        "    return (h * 3600) + (m * 60) + s\n",
        "\n",
        "def calculate_day_difference(start_day, end_day, days_list):\n",
        "    \"\"\"Calculates the difference in days between two days of the week.\"\"\"\n",
        "    start_index = days_list.index(start_day)\n",
        "    end_index = days_list.index(end_day)\n",
        "\n",
        "    if end_index - start_index - 1 < 0:\n",
        "        day_diff = 7 + end_index - start_index - 1\n",
        "    else:\n",
        "        day_diff = end_index - start_index - 1\n",
        "    return day_diff\n",
        "\n",
        "# Original data\n",
        "data = \"12:30:15, Wednesday - 13:41:07, Thursday\"\n",
        "days = ['Monday', 'Tuesday', 'Wednesday', 'Thursday', 'Friday', 'Saturday', 'Sunday']\n",
        "\n",
        "# Using functions to process the data\n",
        "start, end = split_time_and_day(data)\n",
        "\n",
        "start_time, start_day = parse_time_and_day(start)\n",
        "end_time, end_day = parse_time_and_day(end)\n",
        "\n",
        "day_diff = calculate_day_difference(start_day, end_day, days)\n",
        "print(f'ห่างกัน {day_diff} วัน')\n",
        "\n",
        "start_second = time_to_seconds(start_time)\n",
        "end_second = time_to_seconds(end_time)\n",
        "\n",
        "# 1 วัน มี 86400 วินาที\n",
        "total_time = (86400 - start_second) + end_second + (day_diff * 86400)\n",
        "print(f'ช่วงระยะเวลาระหว่าง {data} มีทั้งหมด {total_time} วินาที')"
      ],
      "execution_count": 1,
      "outputs": [
        {
          "output_type": "stream",
          "name": "stdout",
          "text": [
            "ห่างกัน 0 วัน\n",
            "ช่วงระยะเวลาระหว่าง 12:30:15, Wednesday - 13:41:07, Thursday มีทั้งหมด 90652 วินาที\n"
          ]
        }
      ]
    },
    {
      "cell_type": "code",
      "source": [],
      "metadata": {
        "id": "Tpd1laygiXTe"
      },
      "execution_count": null,
      "outputs": []
    },
    {
      "cell_type": "code",
      "metadata": {
        "colab": {
          "base_uri": "https://localhost:8080/"
        },
        "id": "47da5517",
        "outputId": "ac05d39a-6103-4acf-ec47-99790d429d4f"
      },
      "source": [
        "def calculate_time_difference_with_default(data_string, days_list):\n",
        "    \"\"\"\n",
        "    Calculates the time difference in seconds between two times,\n",
        "    assuming the same day if only one time/day string is provided.\n",
        "    \"\"\"\n",
        "    # Split the input string into start and end time/day strings\n",
        "    if ' - ' in data_string:\n",
        "        start_str, end_str = data_string.split(' - ')\n",
        "    else:\n",
        "        # If only one time/day string is provided, assume the same start and end\n",
        "        start_str = data_string\n",
        "        end_str = data_string\n",
        "\n",
        "    # Parse time and day components\n",
        "    start_time, start_day = parse_time_and_day(start_str)\n",
        "    end_time, end_day = parse_time_and_day(end_str)\n",
        "\n",
        "    # Calculate day difference\n",
        "    day_diff = calculate_day_difference(start_day, end_day, days_list)\n",
        "\n",
        "    # Convert times to seconds\n",
        "    start_second = time_to_seconds(start_time)\n",
        "    end_second = time_to_seconds(end_time)\n",
        "\n",
        "    # Calculate total time difference in seconds\n",
        "    # This logic assumes that if the start and end days are the same,\n",
        "    # the end time is always later than or equal to the start time within that day.\n",
        "    # If the end day is after the start day, it calculates the remaining time in the start day,\n",
        "    # the full days in between, and the time in the end day.\n",
        "    if start_day == end_day:\n",
        "        total_time = end_second - start_second\n",
        "    else:\n",
        "         # A more robust calculation for multiple days difference would be needed\n",
        "         # This currently only handles consecutive days or same day.\n",
        "         # For simplicity based on the provided code, it reuses the day_diff logic\n",
        "         # and adds the time difference within the start and end days.\n",
        "         # This might not be accurate for differences spanning multiple days.\n",
        "         # Let's refine this based on the user's original calculation logic:\n",
        "         total_time = (86400 - start_second) + end_second + (day_diff * 86400)\n",
        "\n",
        "\n",
        "    return total_time, day_diff\n",
        "\n",
        "# Define the list of days\n",
        "days = ['Monday', 'Tuesday', 'Wednesday', 'Thursday', 'Friday', 'Saturday', 'Sunday']\n",
        "\n",
        "# Example usage with two time/day strings\n",
        "data_two_inputs = \"12:30:15, Wednesday - 13:41:07, Thursday\"\n",
        "total_time_two_inputs, day_diff_two_inputs = calculate_time_difference_with_default(data_two_inputs, days)\n",
        "print(f'ช่วงระยะเวลาระหว่าง {data_two_inputs} มีทั้งหมด {total_time_two_inputs} วินาที (ห่างกัน {day_diff_two_inputs} วัน)')\n",
        "\n",
        "# Example usage with one time/day string (defaulting to the same day)\n",
        "data_one_input = \"10:00:00, Monday\"\n",
        "total_time_one_input, day_diff_one_input = calculate_time_difference_with_default(data_one_input, days)\n",
        "print(f'ช่วงระยะเวลาระหว่าง {data_one_input} และ {data_one_input} มีทั้งหมด {total_time_one_input} วินาที (ห่างกัน {day_diff_one_input} วัน)')\n",
        "\n",
        "# Example with same day, different times\n",
        "data_same_day_diff_time = \"10:00:00, Monday - 11:30:00, Monday\"\n",
        "total_time_same_day_diff_time, day_diff_same_day_diff_time = calculate_time_difference_with_default(data_same_day_diff_time, days)\n",
        "print(f'ช่วงระยะเวลาระหว่าง {data_same_day_diff_time} มีทั้งหมด {total_time_same_day_diff_time} วินาที (ห่างกัน {day_diff_same_day_diff_time} วัน)')"
      ],
      "execution_count": 3,
      "outputs": [
        {
          "output_type": "stream",
          "name": "stdout",
          "text": [
            "ช่วงระยะเวลาระหว่าง 12:30:15, Wednesday - 13:41:07, Thursday มีทั้งหมด 90652 วินาที (ห่างกัน 0 วัน)\n",
            "ช่วงระยะเวลาระหว่าง 10:00:00, Monday และ 10:00:00, Monday มีทั้งหมด 0 วินาที (ห่างกัน 6 วัน)\n",
            "ช่วงระยะเวลาระหว่าง 10:00:00, Monday - 11:30:00, Monday มีทั้งหมด 5400 วินาที (ห่างกัน 6 วัน)\n"
          ]
        }
      ]
    },
    {
      "cell_type": "code",
      "metadata": {
        "colab": {
          "base_uri": "https://localhost:8080/"
        },
        "id": "f83ad018",
        "outputId": "11e0688b-f33e-4389-e2c7-005e6bc12f4d"
      },
      "source": [
        "data_input = \"12:53:15, Monday - 00:59:25, Tuesday\"\n",
        "total_time_input, day_diff_input = calculate_time_difference_with_default(data_input, days)\n",
        "print(f'ช่วงระยะเวลาระหว่าง {data_input} มีทั้งหมด {total_time_input} วินาที (ห่างกัน {day_diff_input} วัน)')"
      ],
      "execution_count": 4,
      "outputs": [
        {
          "output_type": "stream",
          "name": "stdout",
          "text": [
            "ช่วงระยะเวลาระหว่าง 12:53:15, Monday - 00:59:25, Tuesday มีทั้งหมด 43570 วินาที (ห่างกัน 0 วัน)\n"
          ]
        }
      ]
    },
    {
      "cell_type": "code",
      "metadata": {
        "colab": {
          "base_uri": "https://localhost:8080/"
        },
        "id": "a0cf1943",
        "outputId": "21fc87c6-94e1-40c2-cc54-66e564f60ecf"
      },
      "source": [
        "data_input_2 = \"16:06:09, Sunday - 11:11:11, Tuesday\"\n",
        "total_time_input_2, day_diff_input_2 = calculate_time_difference_with_default(data_input_2, days)\n",
        "print(f'ช่วงระยะเวลาระหว่าง {data_input_2} มีทั้งหมด {total_time_input_2} วินาที (ห่างกัน {day_diff_input_2} วัน)')"
      ],
      "execution_count": 5,
      "outputs": [
        {
          "output_type": "stream",
          "name": "stdout",
          "text": [
            "ช่วงระยะเวลาระหว่าง 16:06:09, Sunday - 11:11:11, Tuesday มีทั้งหมด 155102 วินาที (ห่างกัน 1 วัน)\n"
          ]
        }
      ]
    },
    {
      "cell_type": "code",
      "source": [
        "def cal_dif_secs(timeinput):\n",
        "    timelist = timeinput.split('-')\n",
        "    time1 = timelist[0].split(':')\n",
        "    time2 = timelist[1].split(':')\n",
        "    time1_sec = int(time1[0])*3600 + int(time1[1])*60 + int(time1[2])\n",
        "    time2_sec = int(time2[0])*3600 + int(time2[1])*60 + int(time2[2])\n",
        "    dif_sec = time2_sec - time1_sec\n",
        "    return dif_sec"
      ],
      "metadata": {
        "id": "Y_cPWPKzewFM"
      },
      "execution_count": null,
      "outputs": []
    },
    {
      "cell_type": "code",
      "source": [
        "cal_dif_secs('12:30:15-13:41:07')"
      ],
      "metadata": {
        "colab": {
          "base_uri": "https://localhost:8080/"
        },
        "id": "1lO3BaYJfUuF",
        "outputId": "e85344df-baad-4dd5-9955-684fd865cdfc"
      },
      "execution_count": null,
      "outputs": [
        {
          "output_type": "execute_result",
          "data": {
            "text/plain": [
              "4252"
            ]
          },
          "metadata": {},
          "execution_count": 19
        }
      ]
    },
    {
      "cell_type": "markdown",
      "source": [
        "# Quiz3.5\n",
        "\n",
        "รับ input 2 ตัว โดยตั้งค่า default time1 เป็น 00:00:00"
      ],
      "metadata": {
        "id": "GMMe5F1zgNV5"
      }
    },
    {
      "cell_type": "markdown",
      "source": [
        "## HW2\n",
        "\n",
        "วนลูป หา ช่วงเวลาเป็นวินาที ที่ห่างกันระหว่า time1 และ time2 ต่อไปนี้\n",
        "\n",
        "\n",
        "1. 18:09:10 - 18:25:10\n",
        "2. 13:38:39 - 23:54:39\n",
        "3. 16:49:58 - 18:05:58\n",
        "4. 21:49:10 - 22:24:10\n",
        "5. 08:52:21 - 09:25:21\n",
        "6. 06:56:26 - 07:49:26\n",
        "7. 12:08:05 - 12:43:05\n",
        "8. 01:48:38 - 07:18:38\n",
        "9. 08:51:21 - 10:17:21\n",
        "10. 17:05:17 - 18:09:17"
      ],
      "metadata": {
        "id": "Y60TMz5ijb_S"
      }
    },
    {
      "cell_type": "markdown",
      "metadata": {
        "id": "UB5fTAr3bPqg"
      },
      "source": [
        "# LOOP การวนซ้ำ"
      ]
    },
    {
      "cell_type": "markdown",
      "metadata": {
        "id": "gpIwjDjg0gfJ"
      },
      "source": [
        "for เป็นคำที่ใช้บอก python ว่าเรากำลังเขียน loop\n",
        "โดย for จะวนดึงสมาชิกจาก ```listA``` มาทำ process ```do_something```"
      ]
    },
    {
      "cell_type": "markdown",
      "metadata": {
        "id": "6XS2wO4_bPqg"
      },
      "source": [
        "```python\n",
        "    for each_member in listA :\n",
        "        do_something\n",
        "```"
      ]
    },
    {
      "cell_type": "markdown",
      "metadata": {
        "id": "d7kQ2AEcbPqg"
      },
      "source": [
        "#### คำสั่ง for เป็นคำสั่งวนซ้ำที่ใช้ควบคุมการทำงานซ้ำๆ ในจำนวนรอบที่แน่นอน"
      ]
    },
    {
      "cell_type": "code",
      "metadata": {
        "colab": {
          "base_uri": "https://localhost:8080/"
        },
        "id": "NcT-s7TEbPqg",
        "outputId": "12a14bbe-f3ff-42c8-bbb3-6f9a0f6097f8"
      },
      "source": [
        "for i in [1,2,3] :\n",
        "    o = i**2\n",
        "    print (f'this member = {i} after process = {o}')"
      ],
      "execution_count": null,
      "outputs": [
        {
          "output_type": "stream",
          "name": "stdout",
          "text": [
            "this member = 1 after process = 1\n",
            "this member = 2 after process = 4\n",
            "this member = 3 after process = 9\n"
          ]
        }
      ]
    },
    {
      "cell_type": "markdown",
      "metadata": {
        "id": "YbnFaiU2bPqg"
      },
      "source": [
        "#### ตัวอย่างการใช้คำสั่ง for ในการวนซ้ำค่าของ i เมื่อ i คือ 'Thanapong' และคำสั่ง print(f'{i} -> /') เพื่อกำหนดให้ผลลัพธ์แสดงสัญลักษณ์ -> /  จากนั้นเพิ่มคำสั่ง print(' ') อีกครั้งเพื่อให้ผลลัพธ์มีการเว้นวรรค¶"
      ]
    },
    {
      "cell_type": "code",
      "metadata": {
        "id": "kstoI_CEbPqh",
        "outputId": "1f66fa4a-09f2-44e8-89e0-299a9388f0c1",
        "colab": {
          "base_uri": "https://localhost:8080/"
        }
      },
      "source": [
        "for i in 'Thanapong':\n",
        "    print(f'{i} -> / ' )"
      ],
      "execution_count": null,
      "outputs": [
        {
          "output_type": "stream",
          "name": "stdout",
          "text": [
            "T -> / \n",
            "h -> / \n",
            "a -> / \n",
            "n -> / \n",
            "a -> / \n",
            "p -> / \n",
            "o -> / \n",
            "n -> / \n",
            "g -> / \n"
          ]
        }
      ]
    },
    {
      "cell_type": "code",
      "metadata": {
        "id": "mQmh0Ip-V8qR",
        "outputId": "0e01aa3e-f288-4865-d65d-2f2711066413",
        "colab": {
          "base_uri": "https://localhost:8080/"
        }
      },
      "source": [
        "for i in 'Thanapong':\n",
        "    print(f'{i} -> / ' ,end = '') #สั่งให้ print แบบ ไม่เว้นบรรทัด"
      ],
      "execution_count": null,
      "outputs": [
        {
          "output_type": "stream",
          "name": "stdout",
          "text": [
            "T -> / h -> / a -> / n -> / a -> / p -> / o -> / n -> / g -> / "
          ]
        }
      ]
    },
    {
      "cell_type": "markdown",
      "metadata": {
        "id": "3_I0IHOqXMIr"
      },
      "source": [
        "## สร้าง list ตัวเลขแบบอัตโนมัติ  range()"
      ]
    },
    {
      "cell_type": "code",
      "metadata": {
        "id": "ensAuLXBW-0P",
        "outputId": "e73e37e9-cdcf-47c4-f47a-765e7188860c",
        "colab": {
          "base_uri": "https://localhost:8080/"
        }
      },
      "source": [
        "range5_output = range(5)\n",
        "print(list(range5_output))"
      ],
      "execution_count": null,
      "outputs": [
        {
          "output_type": "stream",
          "name": "stdout",
          "text": [
            "[0, 1, 2, 3, 4]\n"
          ]
        }
      ]
    },
    {
      "cell_type": "code",
      "metadata": {
        "id": "r8JXggPKXrEx",
        "outputId": "bcb4fe84-093e-4623-d62c-2c227d1cceec",
        "colab": {
          "base_uri": "https://localhost:8080/"
        }
      },
      "source": [
        "for i in range(100):\n",
        "    print('งง',end=' ')"
      ],
      "execution_count": null,
      "outputs": [
        {
          "output_type": "stream",
          "name": "stdout",
          "text": [
            "งง งง งง งง งง งง งง งง งง งง งง งง งง งง งง งง งง งง งง งง งง งง งง งง งง งง งง งง งง งง งง งง งง งง งง งง งง งง งง งง งง งง งง งง งง งง งง งง งง งง งง งง งง งง งง งง งง งง งง งง งง งง งง งง งง งง งง งง งง งง งง งง งง งง งง งง งง งง งง งง งง งง งง งง งง งง งง งง งง งง งง งง งง งง งง งง งง งง งง งง "
          ]
        }
      ]
    },
    {
      "cell_type": "code",
      "metadata": {
        "id": "RLvhNqw8YpKa",
        "outputId": "19ae69a5-474b-4d30-f4ce-bdeddf084c71",
        "colab": {
          "base_uri": "https://localhost:8080/"
        }
      },
      "source": [
        "list(range(1,11)) #เริ่มต้นเป็นวงทึบ จบเป็นวงกลมโปร่ง เหมือน list slicing"
      ],
      "execution_count": null,
      "outputs": [
        {
          "output_type": "execute_result",
          "data": {
            "text/plain": [
              "[1, 2, 3, 4, 5, 6, 7, 8, 9, 10]"
            ]
          },
          "metadata": {},
          "execution_count": 27
        }
      ]
    },
    {
      "cell_type": "code",
      "metadata": {
        "id": "MqXQ9NLGcW-r",
        "outputId": "ab839a9f-525a-40d4-b7d1-4b8f0d4de3a7",
        "colab": {
          "base_uri": "https://localhost:8080/"
        }
      },
      "source": [
        "list(range(-3,20,4))"
      ],
      "execution_count": null,
      "outputs": [
        {
          "output_type": "execute_result",
          "data": {
            "text/plain": [
              "[-3, 1, 5, 9, 13, 17]"
            ]
          },
          "metadata": {},
          "execution_count": 28
        }
      ]
    },
    {
      "cell_type": "markdown",
      "metadata": {
        "id": "vPcR4tJebPqi"
      },
      "source": [
        "### loop in loop\n",
        "#### สามารถใช้ for loop ซ้อนกันสองรอบได้¶"
      ]
    },
    {
      "cell_type": "code",
      "metadata": {
        "id": "TKRcpd5DbPqi",
        "outputId": "b18bd9af-fe48-4979-ba91-f8faf2a8787a",
        "colab": {
          "base_uri": "https://localhost:8080/"
        }
      },
      "source": [
        "for name1 in  range(2,5): #(2, 3, 4)\n",
        "    print(f'now name1 = {name1}')\n",
        "    for name2 in  range(1,13):\n",
        "        print('  ', name1,' x ',name2,' = ',name1*name2)\n",
        "    print('the inner loop is end')"
      ],
      "execution_count": null,
      "outputs": [
        {
          "output_type": "stream",
          "name": "stdout",
          "text": [
            "now name1 = 2\n",
            "   2  x  1  =  2\n",
            "   2  x  2  =  4\n",
            "   2  x  3  =  6\n",
            "   2  x  4  =  8\n",
            "   2  x  5  =  10\n",
            "   2  x  6  =  12\n",
            "   2  x  7  =  14\n",
            "   2  x  8  =  16\n",
            "   2  x  9  =  18\n",
            "   2  x  10  =  20\n",
            "   2  x  11  =  22\n",
            "   2  x  12  =  24\n",
            "the inner loop is end\n",
            "now name1 = 3\n",
            "   3  x  1  =  3\n",
            "   3  x  2  =  6\n",
            "   3  x  3  =  9\n",
            "   3  x  4  =  12\n",
            "   3  x  5  =  15\n",
            "   3  x  6  =  18\n",
            "   3  x  7  =  21\n",
            "   3  x  8  =  24\n",
            "   3  x  9  =  27\n",
            "   3  x  10  =  30\n",
            "   3  x  11  =  33\n",
            "   3  x  12  =  36\n",
            "the inner loop is end\n",
            "now name1 = 4\n",
            "   4  x  1  =  4\n",
            "   4  x  2  =  8\n",
            "   4  x  3  =  12\n",
            "   4  x  4  =  16\n",
            "   4  x  5  =  20\n",
            "   4  x  6  =  24\n",
            "   4  x  7  =  28\n",
            "   4  x  8  =  32\n",
            "   4  x  9  =  36\n",
            "   4  x  10  =  40\n",
            "   4  x  11  =  44\n",
            "   4  x  12  =  48\n",
            "the inner loop is end\n"
          ]
        }
      ]
    },
    {
      "cell_type": "markdown",
      "metadata": {
        "id": "7-FAZit8bPqi"
      },
      "source": [
        "### loop in function\n",
        "#### การวนลูปในฟังก์ชั่น¶"
      ]
    },
    {
      "cell_type": "code",
      "metadata": {
        "id": "S0r5yhbDbPqi"
      },
      "source": [
        "def print_feelings(I,friendS,feeling = 'คิดถึง'):\n",
        "    for friend in friendS:\n",
        "        print(f'{I} {feeling} {friend}')"
      ],
      "execution_count": null,
      "outputs": []
    },
    {
      "cell_type": "code",
      "metadata": {
        "id": "_oVKj4SRfGS6"
      },
      "source": [
        "list_friends = ['พี่บูม','ดายน์','แตงโม','ฝน','พี่เจ็ท','น้องแคมป์']"
      ],
      "execution_count": null,
      "outputs": []
    },
    {
      "cell_type": "code",
      "metadata": {
        "id": "RepVZqu6bPqi",
        "outputId": "3153d88c-bb4e-44af-e3e8-1944d1a7d788",
        "colab": {
          "base_uri": "https://localhost:8080/"
        }
      },
      "source": [
        "print_feelings('เจมส์',list_friends)"
      ],
      "execution_count": null,
      "outputs": [
        {
          "output_type": "stream",
          "name": "stdout",
          "text": [
            "เจมส์ คิดถึง พี่บูม\n",
            "เจมส์ คิดถึง ดายน์\n",
            "เจมส์ คิดถึง แตงโม\n",
            "เจมส์ คิดถึง ฝน\n",
            "เจมส์ คิดถึง พี่เจ็ท\n",
            "เจมส์ คิดถึง น้องแคมป์\n"
          ]
        }
      ]
    },
    {
      "cell_type": "code",
      "metadata": {
        "id": "P20pDnVaf2vK",
        "outputId": "cb59f42c-9fb9-4d1b-8b99-58294130d44d",
        "colab": {
          "base_uri": "https://localhost:8080/"
        }
      },
      "source": [
        "print_feelings('เจมส์',list_friends,feeling='รัก')"
      ],
      "execution_count": null,
      "outputs": [
        {
          "output_type": "stream",
          "name": "stdout",
          "text": [
            "เจมส์ รัก พี่บูม\n",
            "เจมส์ รัก ดายน์\n",
            "เจมส์ รัก แตงโม\n",
            "เจมส์ รัก ฝน\n",
            "เจมส์ รัก พี่เจ็ท\n",
            "เจมส์ รัก น้องแคมป์\n"
          ]
        }
      ]
    },
    {
      "cell_type": "code",
      "metadata": {
        "id": "SzHamL8JhKG4",
        "outputId": "19fac0b6-f144-486a-8200-8e246090c9d1",
        "colab": {
          "base_uri": "https://localhost:8080/"
        }
      },
      "source": [
        "print_feelings('เจมส์',list_friends,'รัก')"
      ],
      "execution_count": null,
      "outputs": [
        {
          "output_type": "stream",
          "name": "stdout",
          "text": [
            "เจมส์ รัก พี่บูม\n",
            "เจมส์ รัก ดายน์\n",
            "เจมส์ รัก แตงโม\n",
            "เจมส์ รัก ฝน\n",
            "เจมส์ รัก พี่เจ็ท\n",
            "เจมส์ รัก น้องแคมป์\n"
          ]
        }
      ]
    },
    {
      "cell_type": "markdown",
      "source": [
        "จบ 24 มิย 67"
      ],
      "metadata": {
        "id": "GJAB4hnvnAX8"
      }
    },
    {
      "cell_type": "markdown",
      "source": [
        "## Dictionary (Data Structure)\n",
        "\n",
        "โครงสร้างข้อมูลที่จัดเก็บข้อมูลโดยการอ้างอิงโดย text\n",
        "\n",
        "วงเล็บ ```{``` ```}``` Curly Brackets"
      ],
      "metadata": {
        "id": "VreW55vmVRcb"
      }
    },
    {
      "cell_type": "code",
      "source": [
        "Ex_dict_A = {'memberA':[1,2,3],'memberB':8,'memberC':'abc'}"
      ],
      "metadata": {
        "id": "i-oH98ilV1RV"
      },
      "execution_count": null,
      "outputs": []
    },
    {
      "cell_type": "code",
      "source": [
        "Ex_dict_A"
      ],
      "metadata": {
        "colab": {
          "base_uri": "https://localhost:8080/"
        },
        "id": "kIwdnWuqWr58",
        "outputId": "694d94ad-5ac6-47a8-e6d6-01f62d578d9b"
      },
      "execution_count": null,
      "outputs": [
        {
          "output_type": "execute_result",
          "data": {
            "text/plain": [
              "{'memberA': [1, 2, 3], 'memberB': 8, 'memberC': 'abc'}"
            ]
          },
          "metadata": {},
          "execution_count": 2
        }
      ]
    },
    {
      "cell_type": "code",
      "source": [
        "Ex_dict_A['memberA']"
      ],
      "metadata": {
        "colab": {
          "base_uri": "https://localhost:8080/"
        },
        "id": "J4yy6oaXW4he",
        "outputId": "153013bf-f9bd-4cd9-a182-bf13744d02c7"
      },
      "execution_count": null,
      "outputs": [
        {
          "output_type": "execute_result",
          "data": {
            "text/plain": [
              "[1, 2, 3]"
            ]
          },
          "metadata": {},
          "execution_count": 5
        }
      ]
    },
    {
      "cell_type": "code",
      "source": [
        "Ex_dict_A['memberA'][1]"
      ],
      "metadata": {
        "colab": {
          "base_uri": "https://localhost:8080/"
        },
        "id": "cZjtUbdnXZK-",
        "outputId": "0eaa0d49-1a2a-41d6-bb62-7c3252df977f"
      },
      "execution_count": null,
      "outputs": [
        {
          "output_type": "execute_result",
          "data": {
            "text/plain": [
              "2"
            ]
          },
          "metadata": {},
          "execution_count": 6
        }
      ]
    },
    {
      "cell_type": "markdown",
      "metadata": {
        "id": "vwK7RmRJbPqj"
      },
      "source": [
        "### looping in dict\n",
        "#### ทำการวนลูปในค่า dict โดยที่เรากำหนดตัว key และvalueขึ้นมา ได้ดังนี้\n"
      ]
    },
    {
      "cell_type": "code",
      "metadata": {
        "id": "HI0F-4HobPqj",
        "outputId": "f5dff6b6-6102-4445-cc19-4574cf6790b2",
        "colab": {
          "base_uri": "https://localhost:8080/"
        }
      },
      "source": [
        "name_grade = {'พันทิพา' : 'B','ศุภนิตา' : 'C','ปนัดดา' : 'A','ทรงกลด' : 'F'}\n",
        "name_grade"
      ],
      "execution_count": null,
      "outputs": [
        {
          "output_type": "execute_result",
          "data": {
            "text/plain": [
              "{'พันทิพา': 'B', 'ศุภนิตา': 'C', 'ปนัดดา': 'A', 'ทรงกลด': 'F'}"
            ]
          },
          "metadata": {},
          "execution_count": 7
        }
      ]
    },
    {
      "cell_type": "code",
      "metadata": {
        "id": "jWf8aBmpbPqj",
        "outputId": "d19b353a-86f8-4dcc-e1d5-a5a0d233c332",
        "colab": {
          "base_uri": "https://localhost:8080/",
          "height": 56
        }
      },
      "source": [
        "name_grade['ปนัดดา']"
      ],
      "execution_count": null,
      "outputs": [
        {
          "output_type": "execute_result",
          "data": {
            "text/plain": [
              "'A'"
            ],
            "application/vnd.google.colaboratory.intrinsic+json": {
              "type": "string"
            }
          },
          "metadata": {},
          "execution_count": 8
        }
      ]
    },
    {
      "cell_type": "code",
      "source": [
        "name_grade.keys()"
      ],
      "metadata": {
        "colab": {
          "base_uri": "https://localhost:8080/"
        },
        "id": "0tXZc6kgYPgm",
        "outputId": "13096d92-02b7-4de1-9845-3552562916b2"
      },
      "execution_count": null,
      "outputs": [
        {
          "output_type": "execute_result",
          "data": {
            "text/plain": [
              "dict_keys(['พันทิพา', 'ศุภนิตา', 'ปนัดดา', 'ทรงกลด'])"
            ]
          },
          "metadata": {},
          "execution_count": 9
        }
      ]
    },
    {
      "cell_type": "code",
      "source": [
        "name_grade.values()"
      ],
      "metadata": {
        "colab": {
          "base_uri": "https://localhost:8080/"
        },
        "id": "zEqstk33YRxp",
        "outputId": "e01dc8af-865a-4ba3-809c-370371d8409e"
      },
      "execution_count": null,
      "outputs": [
        {
          "output_type": "execute_result",
          "data": {
            "text/plain": [
              "dict_values(['B', 'C', 'A', 'F'])"
            ]
          },
          "metadata": {},
          "execution_count": 10
        }
      ]
    },
    {
      "cell_type": "code",
      "metadata": {
        "scrolled": true,
        "id": "eDqhoebhbPqj",
        "outputId": "e3bed2bc-662c-4001-c6af-548dd9b7f0fc",
        "colab": {
          "base_uri": "https://localhost:8080/"
        }
      },
      "source": [
        "for i in name_grade.keys():\n",
        "    print(i)"
      ],
      "execution_count": null,
      "outputs": [
        {
          "output_type": "stream",
          "name": "stdout",
          "text": [
            "พันทิพา\n",
            "ศุภนิตา\n",
            "ปนัดดา\n",
            "ทรงกลด\n"
          ]
        }
      ]
    },
    {
      "cell_type": "code",
      "metadata": {
        "id": "Imvq4faObPqj",
        "outputId": "4debf4e7-78ed-431a-8b4a-61f4500d39a8",
        "colab": {
          "base_uri": "https://localhost:8080/"
        }
      },
      "source": [
        "for i in name_grade.keys():\n",
        "    print(f'{i} ได้เกรด {name_grade[i]}')"
      ],
      "execution_count": null,
      "outputs": [
        {
          "output_type": "stream",
          "name": "stdout",
          "text": [
            "พันทิพา ได้เกรด B\n",
            "ศุภนิตา ได้เกรด C\n",
            "ปนัดดา ได้เกรด A\n",
            "ทรงกลด ได้เกรด F\n"
          ]
        }
      ]
    },
    {
      "cell_type": "markdown",
      "source": [
        "## HW2 Example"
      ],
      "metadata": {
        "id": "CrnK1_WPaYv7"
      }
    },
    {
      "cell_type": "code",
      "source": [
        "time_list =  [\n",
        "    [\"18:09:10\", \"18:25:10\"],\n",
        "    [\"13:38:39\", \"23:54:39\"],\n",
        "    [\"16:49:58\", \"18:05:58\"],\n",
        "    [\"21:49:10\", \"22:24:10\"],\n",
        "    [\"08:52:21\", \"09:25:21\"],\n",
        "    [\"06:56:26\", \"07:49:26\"],\n",
        "    [\"12:08:05\", \"12:43:05\"],\n",
        "    [\"01:48:38\", \"07:18:38\"],\n",
        "    [\"08:51:21\", \"10:17:21\"],\n",
        "    [\"17:05:17\", \"18:09:17\"]]\n",
        "\n",
        "def time_to_second(time1,time2):\n",
        "    time1_list = time1.split(':')\n",
        "    time2_list = time2.split(':')\n",
        "    time1_sec = int(time1_list[0])*3600 + int(time1_list[1])*60 + int(time1_list[2])\n",
        "    time2_sec = int(time2_list[0])*3600 + int(time2_list[1])*60 + int(time2_list[2])\n",
        "    return(time2_sec - time1_sec)\n",
        "\n",
        "for time1,time2 in time_list:\n",
        "  diff_seconds = time_to_second(time1,time2)\n",
        "  print(f\"Time difference between {time1} - {time2} is {diff_seconds} seconds\")"
      ],
      "metadata": {
        "colab": {
          "base_uri": "https://localhost:8080/"
        },
        "id": "BqYhLFc5aYa2",
        "outputId": "825e1a7c-f359-44cc-9e02-160670dc983c"
      },
      "execution_count": null,
      "outputs": [
        {
          "output_type": "stream",
          "name": "stdout",
          "text": [
            "Time difference between 18:09:10 - 18:25:10 is 960 seconds\n",
            "Time difference between 13:38:39 - 23:54:39 is 36960 seconds\n",
            "Time difference between 16:49:58 - 18:05:58 is 4560 seconds\n",
            "Time difference between 21:49:10 - 22:24:10 is 2100 seconds\n",
            "Time difference between 08:52:21 - 09:25:21 is 1980 seconds\n",
            "Time difference between 06:56:26 - 07:49:26 is 3180 seconds\n",
            "Time difference between 12:08:05 - 12:43:05 is 2100 seconds\n",
            "Time difference between 01:48:38 - 07:18:38 is 19800 seconds\n",
            "Time difference between 08:51:21 - 10:17:21 is 5160 seconds\n",
            "Time difference between 17:05:17 - 18:09:17 is 3840 seconds\n"
          ]
        }
      ]
    },
    {
      "cell_type": "code",
      "source": [
        "time1 = \"18:09:10\"\n",
        "time2 = \"00:25:10\"\n",
        "diff_seconds = time_to_second(time1,time2)\n",
        "print(f\"Time difference between {time1} - {time2} is {diff_seconds} seconds\")"
      ],
      "metadata": {
        "colab": {
          "base_uri": "https://localhost:8080/"
        },
        "id": "lbz-CNPlbGYq",
        "outputId": "31befb8b-40ae-47b0-876d-a94e7ecfe760"
      },
      "execution_count": null,
      "outputs": [
        {
          "output_type": "stream",
          "name": "stdout",
          "text": [
            "Time difference between 18:09:10 - 00:25:10 is -63840 seconds\n"
          ]
        }
      ]
    },
    {
      "cell_type": "markdown",
      "metadata": {
        "id": "pLDGW8IobPqk"
      },
      "source": [
        "# Conditional statemet คือ ประโยคเงื่อนไข"
      ]
    },
    {
      "cell_type": "markdown",
      "source": [
        "ชนิดตัวแปรที่เกี่ยวข้อ Boolean (True,False)"
      ],
      "metadata": {
        "id": "TvK12jMwcVp8"
      }
    },
    {
      "cell_type": "code",
      "source": [
        "condition_1 = True\n",
        "condition_2 = False"
      ],
      "metadata": {
        "id": "JWxlKa-icUk6"
      },
      "execution_count": null,
      "outputs": []
    },
    {
      "cell_type": "markdown",
      "metadata": {
        "id": "8_-zCLkrbPqk"
      },
      "source": [
        "### การวนลูปโดยมีเงื่อนไขต่างๆมาเกี่ยวข้อง โดยมี pattern ดังนี้\n"
      ]
    },
    {
      "cell_type": "markdown",
      "metadata": {
        "id": "ZQuWb-bybPqk"
      },
      "source": [
        "```Python\n",
        "if condition1 :\n",
        "    do something\n",
        "elif condition2 :  #elif คือ else if\n",
        "    do another thing\n",
        "else:\n",
        "    do ...\n",
        "```\n",
        "    "
      ]
    },
    {
      "cell_type": "markdown",
      "metadata": {
        "id": "kUPdCRG7bPqk"
      },
      "source": [
        "## ==, !=,>=,<=,<,> Operator ของตัวเลข"
      ]
    },
    {
      "cell_type": "code",
      "source": [
        "def time_to_second(time1):\n",
        "    time1_list = time1.split(':')\n",
        "    time1_sec = int(time1_list[0])*3600 + int(time1_list[1])*60 + int(time1_list[2])\n",
        "    return time1_sec"
      ],
      "metadata": {
        "id": "9NIOIupSd_Zn"
      },
      "execution_count": null,
      "outputs": []
    },
    {
      "cell_type": "code",
      "source": [
        "time_list =  [\n",
        "    [\"18:09:10\", \"18:25:10\"],\n",
        "    [\"13:38:39\", \"23:54:39\"],[\"16:49:58\", \"18:05:58\"],\n",
        "    [\"21:49:10\", \"22:24:10\"],[\"08:52:21\", \"09:25:21\"],\n",
        "    [\"06:56:26\", \"07:49:26\"],[\"12:08:05\", \"12:43:05\"],\n",
        "    [\"01:48:38\", \"07:18:38\"],[\"08:51:21\", \"10:17:21\"],\n",
        "    [\"17:05:17\", \"18:09:17\"],[\"18:51:21\", \"00:17:21\"],\n",
        "    [\"17:05:17\", \"11:09:17\"],]"
      ],
      "metadata": {
        "id": "CYcYQJ45d8Wx"
      },
      "execution_count": null,
      "outputs": []
    },
    {
      "cell_type": "markdown",
      "source": [
        "# HW3 เพิ่ม ฟังก์ชั่นแปลงวินาทีกลับมาเป็น ชั่วโมง นาที วินาที โดยไม่ใช่ฟังก์ชั่นช่วยเหลืออื่นๆของ python (~~import~~) ถ้าส่วนของ ชั่วโมง นาที วินาที เป็นศูนย์ ไม่ต้องแสดง"
      ],
      "metadata": {
        "id": "JMvgwO7tgxSZ"
      }
    },
    {
      "cell_type": "markdown",
      "metadata": {
        "id": "sSySEFHNbPql"
      },
      "source": [
        "# HW 4\n",
        "#### เขียน function ตัดเกรด โดยที่ input เป็นคะแนน(0-100) , output เป็นเกรด (F-A)\n",
        "#### วนลูปตัดเกรด input = [1,50,65,90,101,-5,49]"
      ]
    },
    {
      "cell_type": "markdown",
      "metadata": {
        "id": "c3TDhZHzbPqm"
      },
      "source": [
        "##### กำหนด\n",
        "      ถ้าคะแนนอยู่ระหว่างมากกว่าหรือเท่ากับ  0  แต่น้อยกว่า 50 จะได้เกรด F\n",
        "      ถ้าคะแนนอยู่ระหว่างมากกว่าหรือเท่ากับ 50 แต่น้อยกว่า 55 จะได้เกรด D\n",
        "      ถ้าคะแนนอยู่ระหว่างมากกว่าหรือเท่ากับ 55 แต่น้อยกว่า 60 จะได้เกรด D+\n",
        "      ถ้าคะแนนอยู่ระหว่างมากกว่าหรือเท่ากับ 60 แต่น้อยกว่า 65 จะได้เกรด C\n",
        "      ถ้าคะแนนอยู่ระหว่างมากกว่าหรือเท่ากับ 65 แต่น้อยกว่า 70 จะได้เกรด C+\n",
        "      ถ้าคะแนนอยู่ระหว่างมากกว่าหรือเท่ากับ 70 แต่น้อยกว่า 75 จะได้เกรด B\n",
        "      ถ้าคะแนนอยู่ระหว่างมากกว่าหรือเท่ากับ 75 แต่น้อยกว่า 80 จะได้เกรด B+\n",
        "      ถ้าคะแนนอยู่ระหว่างมากกว่าหรือเท่ากับ 80  จะได้เกรด A\n",
        "      แต่ว่าค่าคะแนนจะต้องไม่ต่ำกว่า 0 และมากกว่า 100 ไม่งั้นจะเกิด error"
      ]
    },
    {
      "cell_type": "markdown",
      "source": [
        "## ```&```, ```|```, ```in```, ```is```   :  Operator อื่นๆ"
      ],
      "metadata": {
        "id": "HSMQXdmmipMp"
      }
    },
    {
      "cell_type": "code",
      "source": [
        "if (1>0) & (0>-1):\n",
        "    print(True & True)"
      ],
      "metadata": {
        "id": "ES5d1z0ti306",
        "outputId": "4bc178b2-a5d8-4476-e02c-c87ddd5b91ce",
        "colab": {
          "base_uri": "https://localhost:8080/"
        }
      },
      "execution_count": null,
      "outputs": [
        {
          "output_type": "stream",
          "name": "stdout",
          "text": [
            "True\n"
          ]
        }
      ]
    },
    {
      "cell_type": "code",
      "source": [
        "if 'T' in 'Thanapong':\n",
        "    print('T in Thanapong')"
      ],
      "metadata": {
        "id": "3COnyOTKipAc",
        "outputId": "d50e2919-9cbc-41fb-d20f-6e5a371ebba1",
        "colab": {
          "base_uri": "https://localhost:8080/"
        }
      },
      "execution_count": null,
      "outputs": [
        {
          "output_type": "stream",
          "name": "stdout",
          "text": [
            "T in Thanapong\n"
          ]
        }
      ]
    },
    {
      "cell_type": "code",
      "source": [
        "def return_nothing(x):\n",
        "    x = x+1"
      ],
      "metadata": {
        "id": "01N3TOG9k3ti"
      },
      "execution_count": null,
      "outputs": []
    },
    {
      "cell_type": "code",
      "source": [
        "a = return_nothing(5)"
      ],
      "metadata": {
        "id": "drWbuBwNldOL"
      },
      "execution_count": null,
      "outputs": []
    },
    {
      "cell_type": "code",
      "source": [
        "if a is None:\n",
        "    print('x is null')"
      ],
      "metadata": {
        "id": "pOj0pkEEkbuW",
        "outputId": "29d5bf18-d242-40f3-a542-26c39aa2fcca",
        "colab": {
          "base_uri": "https://localhost:8080/"
        }
      },
      "execution_count": null,
      "outputs": [
        {
          "output_type": "stream",
          "name": "stdout",
          "text": [
            "x is null\n"
          ]
        }
      ]
    },
    {
      "cell_type": "code",
      "source": [],
      "metadata": {
        "id": "y1ET-H8ylyxP"
      },
      "execution_count": null,
      "outputs": []
    },
    {
      "cell_type": "markdown",
      "metadata": {
        "id": "Bg3vVE3GbPqn"
      },
      "source": [
        "# Finish"
      ]
    }
  ]
}